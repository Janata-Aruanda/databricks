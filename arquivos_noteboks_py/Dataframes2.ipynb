{
 "cells": [
  {
   "cell_type": "code",
   "execution_count": 0,
   "metadata": {
    "application/vnd.databricks.v1+cell": {
     "cellMetadata": {
      "byteLimit": 2048000,
      "rowLimit": 10000
     },
     "inputWidgets": {},
     "nuid": "3dba9e6f-ff5f-4252-b964-389b35e80a24",
     "showTitle": false,
     "title": ""
    }
   },
   "outputs": [
    {
     "output_type": "stream",
     "name": "stdout",
     "output_type": "stream",
     "text": [
      "+---+-------------------+------+-------------+------+----------+\n| id|               nome|status|       cidade|vendas|      data|\n+---+-------------------+------+-------------+------+----------+\n|  1|   Carminda Pestana| Ativo|  Santa Maria|    23|2020-08-11|\n|  2|    Deolinda Vilela| Ativo|Novo Hamburgo|    34|2020-03-05|\n|  3|   Emídio Dornelles| Ativo| Porto Alegre|    34|2020-02-05|\n|  4|Felisbela Dornelles| Ativo| Porto Alegre|    36|2020-02-05|\n|  5|     Graça Ornellas| Ativo| Porto Alegre|    12|2020-02-05|\n|  6|   Matilde Rebouças| Ativo| Porto Alegre|    22|2019-01-05|\n|  7|    Noêmia   Orriça| Ativo|  Santa Maria|    45|2019-10-05|\n|  8|      Roque Vásquez| Ativo| Porto Alegre|    65|2020-03-05|\n|  9|      Uriel Queiroz| Ativo| Porto Alegre|    54|2018-05-05|\n| 10|   Viviana Sequeira| Ativo| Porto Alegre|     0|2020-09-05|\n+---+-------------------+------+-------------+------+----------+\n\n"
     ]
    }
   ],
   "source": [
    "from pyspark.sql.types import *\n",
    "\n",
    "#importar dados definindo schema\n",
    "#vamos deixar a data como string de propósito\n",
    "#o arquivo despachentes.csv não de cabeçalho(nome das colunas)\n",
    "\n",
    "#definindo o schema e atribuindo para um variavel\n",
    "arqschema = \"id INT, nome STRING, status STRING, cidade STRING, vendas INT, data STRING\"\n",
    "\n",
    "\n",
    "#o caminho pode mudar, download é a pasta que você baixou com dados de exemplo\n",
    "\n",
    "#na leitura do arquivo estamos definindo o schema \n",
    "#caminho é do DBFS quando importa o arquivo, é exibido o caminho onde se encontra o arquivo\n",
    "despachantes = spark.read.csv(\"/FileStore/tables/despachantes.csv\", header=False, schema=arqschema)\n",
    "\n",
    "#exibir o dataframe\n",
    "despachantes.show()"
   ]
  },
  {
   "cell_type": "code",
   "execution_count": 0,
   "metadata": {
    "application/vnd.databricks.v1+cell": {
     "cellMetadata": {
      "byteLimit": 2048000,
      "rowLimit": 10000
     },
     "inputWidgets": {},
     "nuid": "234cf286-00a2-4f0d-85ed-a488adaa979d",
     "showTitle": false,
     "title": ""
    }
   },
   "outputs": [
    {
     "output_type": "stream",
     "name": "stdout",
     "output_type": "stream",
     "text": [
      "+---+-------------------+-----+-------------+---+----------+\n|_c0|                _c1|  _c2|          _c3|_c4|       _c5|\n+---+-------------------+-----+-------------+---+----------+\n|  1|   Carminda Pestana|Ativo|  Santa Maria| 23|2020-08-11|\n|  2|    Deolinda Vilela|Ativo|Novo Hamburgo| 34|2020-03-05|\n|  3|   Emídio Dornelles|Ativo| Porto Alegre| 34|2020-02-05|\n|  4|Felisbela Dornelles|Ativo| Porto Alegre| 36|2020-02-05|\n|  5|     Graça Ornellas|Ativo| Porto Alegre| 12|2020-02-05|\n|  6|   Matilde Rebouças|Ativo| Porto Alegre| 22|2019-01-05|\n|  7|    Noêmia   Orriça|Ativo|  Santa Maria| 45|2019-10-05|\n|  8|      Roque Vásquez|Ativo| Porto Alegre| 65|2020-03-05|\n|  9|      Uriel Queiroz|Ativo| Porto Alegre| 54|2018-05-05|\n| 10|   Viviana Sequeira|Ativo| Porto Alegre|  0|2020-09-05|\n+---+-------------------+-----+-------------+---+----------+\n\n"
     ]
    }
   ],
   "source": [
    "#outro exemplo, inferindo schema, usando load e informado tipo\n",
    "\n",
    "desp_autoschema = spark.read.load(\"/FileStore/tables/despachantes.csv\",\n",
    "                     format=\"csv\", sep=\",\", inferSchema=True, header=False)\n",
    "desp_autoschema.show()"
   ]
  },
  {
   "cell_type": "code",
   "execution_count": 0,
   "metadata": {
    "application/vnd.databricks.v1+cell": {
     "cellMetadata": {
      "byteLimit": 2048000,
      "rowLimit": 10000
     },
     "inputWidgets": {},
     "nuid": "dd6727b4-b7d6-4ce0-9944-2ce6c1f6757e",
     "showTitle": false,
     "title": ""
    }
   },
   "outputs": [
    {
     "output_type": "stream",
     "name": "stdout",
     "output_type": "stream",
     "text": [
      "root\n |-- _c0: integer (nullable = true)\n |-- _c1: string (nullable = true)\n |-- _c2: string (nullable = true)\n |-- _c3: string (nullable = true)\n |-- _c4: integer (nullable = true)\n |-- _c5: date (nullable = true)\n\nroot\n |-- id: integer (nullable = true)\n |-- nome: string (nullable = true)\n |-- status: string (nullable = true)\n |-- cidade: string (nullable = true)\n |-- vendas: integer (nullable = true)\n |-- data: string (nullable = true)\n\n"
     ]
    }
   ],
   "source": [
    "#comparando os schemas, outra forma\n",
    "\n",
    "#exibindo o schema do dataframe, sem definir o schema\n",
    "#ao ler o arquivo o spark compreende o schema por padrão, a coluna _c5 foi interpretada com date\n",
    "desp_autoschema.printSchema()\n",
    "\n",
    "#exibindo o schema do dataframe, definindo o schema\n",
    "#ao ler o arquivo o spark intrepreta o schema passado, data: string  \"definimos a coluna data como string de propósito\"\n",
    "despachantes.printSchema()\n"
   ]
  },
  {
   "cell_type": "code",
   "execution_count": 0,
   "metadata": {
    "application/vnd.databricks.v1+cell": {
     "cellMetadata": {
      "byteLimit": 2048000,
      "rowLimit": 10000
     },
     "inputWidgets": {},
     "nuid": "e7add001-f513-4063-a49c-e1c9dd36120e",
     "showTitle": false,
     "title": ""
    }
   },
   "outputs": [
    {
     "output_type": "stream",
     "name": "stdout",
     "output_type": "stream",
     "text": [
      "+---+-------------------+------+\n| id|               nome|vendas|\n+---+-------------------+------+\n|  1|   Carminda Pestana|    23|\n|  2|    Deolinda Vilela|    34|\n|  3|   Emídio Dornelles|    34|\n|  4|Felisbela Dornelles|    36|\n|  6|   Matilde Rebouças|    22|\n|  7|    Noêmia   Orriça|    45|\n|  8|      Roque Vásquez|    65|\n|  9|      Uriel Queiroz|    54|\n+---+-------------------+------+\n\n+---+-------------------+------+\n| id|               nome|vendas|\n+---+-------------------+------+\n|  1|   Carminda Pestana|    23|\n|  2|    Deolinda Vilela|    34|\n|  3|   Emídio Dornelles|    34|\n|  4|Felisbela Dornelles|    36|\n|  6|   Matilde Rebouças|    22|\n+---+-------------------+------+\n\n"
     ]
    }
   ],
   "source": [
    "from pyspark.sql import functions as F\n",
    "\n",
    "\n",
    "#condição lógica com where\n",
    "despachantes.select(\"id\",\"nome\",\"vendas\").where(F.col(\"vendas\") > 20).show()\n",
    "#& para and, | para or, e ~ para not\n",
    "despachantes.select(\"id\",\"nome\",\"vendas\").where((F.col(\"vendas\") > 20) & (F.col(\"vendas\") < 40)).show()"
   ]
  },
  {
   "cell_type": "code",
   "execution_count": 0,
   "metadata": {
    "application/vnd.databricks.v1+cell": {
     "cellMetadata": {
      "byteLimit": 2048000,
      "rowLimit": 10000
     },
     "inputWidgets": {},
     "nuid": "b5c8b965-3b5b-4037-8aa7-42446e17ee02",
     "showTitle": false,
     "title": ""
    }
   },
   "outputs": [
    {
     "output_type": "stream",
     "name": "stdout",
     "output_type": "stream",
     "text": [
      "Dataframe despachantes: ['id', 'nome', 'status', 'cidade', 'vendas', 'data']\nNovo Dataframe novodf: ['id', 'nomes', 'status', 'cidade', 'vendas', 'data']\n"
     ]
    }
   ],
   "source": [
    "#renomear coluna\n",
    "novodf = despachantes.withColumnRenamed(\"nome\",\"nomes\")\n",
    "\n",
    "#Dataframes são imutaveis, foi feito um remomeação do no nome da coluna e atribuito para novo dataframe#\n",
    "\n",
    "print(\"Dataframe despachantes:\", despachantes.columns)\n",
    "print(\"Novo Dataframe novodf:\", novodf.columns)"
   ]
  },
  {
   "cell_type": "code",
   "execution_count": 0,
   "metadata": {
    "application/vnd.databricks.v1+cell": {
     "cellMetadata": {
      "byteLimit": 2048000,
      "rowLimit": 10000
     },
     "inputWidgets": {},
     "nuid": "5a86f348-0709-4034-a99e-63d29b1c90d4",
     "showTitle": false,
     "title": ""
    }
   },
   "outputs": [
    {
     "output_type": "stream",
     "name": "stdout",
     "output_type": "stream",
     "text": [
      "+---+----------------+------+-------------+------+----------+-------------------+\n| id|            nome|status|       cidade|vendas|      data|              data2|\n+---+----------------+------+-------------+------+----------+-------------------+\n|  1|Carminda Pestana| Ativo|  Santa Maria|    23|2020-08-11|2020-08-11 00:00:00|\n|  2| Deolinda Vilela| Ativo|Novo Hamburgo|    34|2020-03-05|2020-03-05 00:00:00|\n|  3|Emídio Dornelles| Ativo| Porto Alegre|    34|2020-02-05|2020-02-05 00:00:00|\n+---+----------------+------+-------------+------+----------+-------------------+\nonly showing top 3 rows\n\nroot\n |-- id: integer (nullable = true)\n |-- nome: string (nullable = true)\n |-- status: string (nullable = true)\n |-- cidade: string (nullable = true)\n |-- vendas: integer (nullable = true)\n |-- data: string (nullable = true)\n |-- data2: timestamp (nullable = true)\n\n--------------------------------------------------\nDataframe com o schema da coluna data em string\n\nroot\n |-- id: integer (nullable = true)\n |-- nome: string (nullable = true)\n |-- status: string (nullable = true)\n |-- cidade: string (nullable = true)\n |-- vendas: integer (nullable = true)\n |-- data: string (nullable = true)\n\n"
     ]
    }
   ],
   "source": [
    "from pyspark.sql.functions import *\n",
    "\n",
    "#coluna data está como string, vamos transformar em timestamp\n",
    "#yyyy --> ano\n",
    "#MM --> Mês\n",
    "#dd --> dia\n",
    "despachantes2 = despachantes.withColumn(\"data2\", to_timestamp(F.col(\"data\"),\"yyyy-MM-dd\"))\n",
    "despachantes2.show(3)\n",
    "despachantes2.printSchema()\n",
    "\n",
    "print('-'*50)\n",
    "print('Dataframe com o schema da coluna data em string\\n')\n",
    "despachantes.printSchema()"
   ]
  },
  {
   "cell_type": "code",
   "execution_count": 0,
   "metadata": {
    "application/vnd.databricks.v1+cell": {
     "cellMetadata": {
      "byteLimit": 2048000,
      "rowLimit": 10000
     },
     "inputWidgets": {},
     "nuid": "95775062-e06a-4b8c-a079-c50e22a61aad",
     "showTitle": false,
     "title": ""
    }
   },
   "outputs": [
    {
     "output_type": "stream",
     "name": "stdout",
     "output_type": "stream",
     "text": [
      "+----------+\n|year(data)|\n+----------+\n|      2020|\n|      2020|\n|      2020|\n|      2020|\n|      2020|\n|      2019|\n|      2019|\n|      2020|\n|      2018|\n|      2020|\n+----------+\n\n+----------+\n|year(data)|\n+----------+\n|      2018|\n|      2019|\n|      2020|\n+----------+\n\n+-------------------+----------+\n|               nome|year(data)|\n+-------------------+----------+\n|   Carminda Pestana|      2020|\n|    Deolinda Vilela|      2020|\n|   Emídio Dornelles|      2020|\n|Felisbela Dornelles|      2020|\n|     Graça Ornellas|      2020|\n|   Matilde Rebouças|      2019|\n|    Noêmia   Orriça|      2019|\n|      Roque Vásquez|      2020|\n|      Uriel Queiroz|      2018|\n|   Viviana Sequeira|      2020|\n+-------------------+----------+\n\n+----------+-----+\n|year(data)|count|\n+----------+-----+\n|      2018|    1|\n|      2019|    2|\n|      2020|    7|\n+----------+-----+\n\n+-----------+\n|sum(vendas)|\n+-----------+\n|        325|\n+-----------+\n\n"
     ]
    }
   ],
   "source": [
    "#operações sobre datas\n",
    "\n",
    "#trabalhando apenas o ano da coluna data. \n",
    "despachantes2.select(year(\"data\")).show()\n",
    "\n",
    "#trabalhando apenas o ano da coluna data, agora fazer um filtro trazendo numeros unico\n",
    "despachantes2.select(year(\"data\")).distinct().show()\n",
    "\n",
    "#Trabalhando com as colunas nome e data, mas usuando a função para traz apenas o ano e ordenando pelo o nome. \n",
    "despachantes2.select(\"nome\",year(\"data\")).orderBy(\"nome\").show()\n",
    "\n",
    "#Trabalhando com as colunas data, mas usuando a função para traz apenas o ano e realizando contagem que se repete o ano. \n",
    "despachantes2.select(\"data\").groupBy(year(\"data\")).count().show()\n",
    "\n",
    "#trabalhando com a coluna vendas e realizando soma das vendas\n",
    "despachantes2.select(F.sum(\"vendas\")).show()"
   ]
  },
  {
   "cell_type": "code",
   "execution_count": 0,
   "metadata": {
    "application/vnd.databricks.v1+cell": {
     "cellMetadata": {
      "byteLimit": 2048000,
      "rowLimit": 10000
     },
     "inputWidgets": {},
     "nuid": "47bc4ddb-8d65-4b47-b9e4-9aa1e973a0d9",
     "showTitle": false,
     "title": ""
    }
   },
   "outputs": [],
   "source": [
    "#salvar, são diretórios\n",
    "despachantes.write.format(\"parquet\").save(\"dfimportparquet\")\n",
    "despachantes.write.format(\"csv\").save(\"dfimportcsv\")\n",
    "despachantes.write.format(\"json\").save(\"dfimportjson\")\n",
    "despachantes.write.format(\"orc\").save(\"dfimportorc\")"
   ]
  },
  {
   "cell_type": "code",
   "execution_count": 0,
   "metadata": {
    "application/vnd.databricks.v1+cell": {
     "cellMetadata": {
      "byteLimit": 2048000,
      "rowLimit": 10000
     },
     "inputWidgets": {},
     "nuid": "f66eac68-0b82-4d81-849e-1eeeb659dea8",
     "showTitle": false,
     "title": ""
    }
   },
   "outputs": [
    {
     "output_type": "display_data",
     "data": {
      "text/html": [
       "<style scoped>\n",
       "  .table-result-container {\n",
       "    max-height: 300px;\n",
       "    overflow: auto;\n",
       "  }\n",
       "  table, th, td {\n",
       "    border: 1px solid black;\n",
       "    border-collapse: collapse;\n",
       "  }\n",
       "  th, td {\n",
       "    padding: 5px;\n",
       "  }\n",
       "  th {\n",
       "    text-align: left;\n",
       "  }\n",
       "</style><div class='table-result-container'><table class='table-result'><thead style='background-color: white'><tr><th>path</th><th>name</th><th>size</th><th>modificationTime</th></tr></thead><tbody><tr><td>dbfs:/FileStore/</td><td>FileStore/</td><td>0</td><td>0</td></tr><tr><td>dbfs:/databricks-datasets/</td><td>databricks-datasets/</td><td>0</td><td>0</td></tr><tr><td>dbfs:/databricks-results/</td><td>databricks-results/</td><td>0</td><td>0</td></tr><tr><td>dbfs:/dfimportcsv/</td><td>dfimportcsv/</td><td>0</td><td>0</td></tr><tr><td>dbfs:/dfimportjson/</td><td>dfimportjson/</td><td>0</td><td>0</td></tr><tr><td>dbfs:/dfimportorc/</td><td>dfimportorc/</td><td>0</td><td>0</td></tr><tr><td>dbfs:/dfimportparquet/</td><td>dfimportparquet/</td><td>0</td><td>0</td></tr></tbody></table></div>"
      ]
     },
     "metadata": {
      "application/vnd.databricks.v1+output": {
       "addedWidgets": {},
       "aggData": [],
       "aggError": "",
       "aggOverflow": false,
       "aggSchema": [],
       "aggSeriesLimitReached": false,
       "aggType": "",
       "arguments": {},
       "columnCustomDisplayInfos": {},
       "data": [
        [
         "dbfs:/FileStore/",
         "FileStore/",
         0,
         0
        ],
        [
         "dbfs:/databricks-datasets/",
         "databricks-datasets/",
         0,
         0
        ],
        [
         "dbfs:/databricks-results/",
         "databricks-results/",
         0,
         0
        ],
        [
         "dbfs:/dfimportcsv/",
         "dfimportcsv/",
         0,
         0
        ],
        [
         "dbfs:/dfimportjson/",
         "dfimportjson/",
         0,
         0
        ],
        [
         "dbfs:/dfimportorc/",
         "dfimportorc/",
         0,
         0
        ],
        [
         "dbfs:/dfimportparquet/",
         "dfimportparquet/",
         0,
         0
        ]
       ],
       "datasetInfos": [],
       "dbfsResultPath": null,
       "isJsonSchema": true,
       "metadata": {
        "isDbfsCommandResult": false
       },
       "overflow": false,
       "plotOptions": {
        "customPlotOptions": {},
        "displayType": "table",
        "pivotAggregation": null,
        "pivotColumns": null,
        "xColumns": null,
        "yColumns": null
       },
       "removedWidgets": [],
       "schema": [
        {
         "metadata": "{}",
         "name": "path",
         "type": "\"string\""
        },
        {
         "metadata": "{}",
         "name": "name",
         "type": "\"string\""
        },
        {
         "metadata": "{}",
         "name": "size",
         "type": "\"long\""
        },
        {
         "metadata": "{}",
         "name": "modificationTime",
         "type": "\"long\""
        }
       ],
       "type": "table"
      }
     },
     "output_type": "display_data"
    }
   ],
   "source": [
    "%fs ls"
   ]
  },
  {
   "cell_type": "code",
   "execution_count": 0,
   "metadata": {
    "application/vnd.databricks.v1+cell": {
     "cellMetadata": {
      "byteLimit": 2048000,
      "rowLimit": 10000
     },
     "inputWidgets": {},
     "nuid": "d6b20598-7f05-4bb1-930f-bc2e7e095c28",
     "showTitle": false,
     "title": ""
    }
   },
   "outputs": [
    {
     "output_type": "display_data",
     "data": {
      "text/html": [
       "<style scoped>\n",
       "  .table-result-container {\n",
       "    max-height: 300px;\n",
       "    overflow: auto;\n",
       "  }\n",
       "  table, th, td {\n",
       "    border: 1px solid black;\n",
       "    border-collapse: collapse;\n",
       "  }\n",
       "  th, td {\n",
       "    padding: 5px;\n",
       "  }\n",
       "  th {\n",
       "    text-align: left;\n",
       "  }\n",
       "</style><div class='table-result-container'><table class='table-result'><thead style='background-color: white'><tr><th>path</th><th>name</th><th>size</th><th>modificationTime</th></tr></thead><tbody><tr><td>dbfs:/dfimportparquet/_SUCCESS</td><td>_SUCCESS</td><td>0</td><td>1711232999000</td></tr><tr><td>dbfs:/dfimportparquet/_committed_5803114846786228795</td><td>_committed_5803114846786228795</td><td>123</td><td>1711232999000</td></tr><tr><td>dbfs:/dfimportparquet/_started_5803114846786228795</td><td>_started_5803114846786228795</td><td>0</td><td>1711232996000</td></tr><tr><td>dbfs:/dfimportparquet/part-00000-tid-5803114846786228795-7335b84a-4769-4c4a-a409-8c4a333aa0c5-46-1-c000.snappy.parquet</td><td>part-00000-tid-5803114846786228795-7335b84a-4769-4c4a-a409-8c4a333aa0c5-46-1-c000.snappy.parquet</td><td>2289</td><td>1711232999000</td></tr></tbody></table></div>"
      ]
     },
     "metadata": {
      "application/vnd.databricks.v1+output": {
       "addedWidgets": {},
       "aggData": [],
       "aggError": "",
       "aggOverflow": false,
       "aggSchema": [],
       "aggSeriesLimitReached": false,
       "aggType": "",
       "arguments": {},
       "columnCustomDisplayInfos": {},
       "data": [
        [
         "dbfs:/dfimportparquet/_SUCCESS",
         "_SUCCESS",
         0,
         1711232999000
        ],
        [
         "dbfs:/dfimportparquet/_committed_5803114846786228795",
         "_committed_5803114846786228795",
         123,
         1711232999000
        ],
        [
         "dbfs:/dfimportparquet/_started_5803114846786228795",
         "_started_5803114846786228795",
         0,
         1711232996000
        ],
        [
         "dbfs:/dfimportparquet/part-00000-tid-5803114846786228795-7335b84a-4769-4c4a-a409-8c4a333aa0c5-46-1-c000.snappy.parquet",
         "part-00000-tid-5803114846786228795-7335b84a-4769-4c4a-a409-8c4a333aa0c5-46-1-c000.snappy.parquet",
         2289,
         1711232999000
        ]
       ],
       "datasetInfos": [],
       "dbfsResultPath": null,
       "isJsonSchema": true,
       "metadata": {
        "isDbfsCommandResult": false
       },
       "overflow": false,
       "plotOptions": {
        "customPlotOptions": {},
        "displayType": "table",
        "pivotAggregation": null,
        "pivotColumns": null,
        "xColumns": null,
        "yColumns": null
       },
       "removedWidgets": [],
       "schema": [
        {
         "metadata": "{}",
         "name": "path",
         "type": "\"string\""
        },
        {
         "metadata": "{}",
         "name": "name",
         "type": "\"string\""
        },
        {
         "metadata": "{}",
         "name": "size",
         "type": "\"long\""
        },
        {
         "metadata": "{}",
         "name": "modificationTime",
         "type": "\"long\""
        }
       ],
       "type": "table"
      }
     },
     "output_type": "display_data"
    }
   ],
   "source": [
    "%fs ls dbfs:/dfimportparquet/"
   ]
  },
  {
   "cell_type": "code",
   "execution_count": 0,
   "metadata": {
    "application/vnd.databricks.v1+cell": {
     "cellMetadata": {
      "byteLimit": 2048000,
      "rowLimit": 10000
     },
     "inputWidgets": {},
     "nuid": "e0a53c29-3216-496e-a81e-59c079f76064",
     "showTitle": false,
     "title": ""
    }
   },
   "outputs": [
    {
     "output_type": "stream",
     "name": "stdout",
     "output_type": "stream",
     "text": [
      "+---+-------------------+------+-------------+------+----------+\n| id|               nome|status|       cidade|vendas|      data|\n+---+-------------------+------+-------------+------+----------+\n|  1|   Carminda Pestana| Ativo|  Santa Maria|    23|2020-08-11|\n|  2|    Deolinda Vilela| Ativo|Novo Hamburgo|    34|2020-03-05|\n|  3|   Emídio Dornelles| Ativo| Porto Alegre|    34|2020-02-05|\n|  4|Felisbela Dornelles| Ativo| Porto Alegre|    36|2020-02-05|\n|  5|     Graça Ornellas| Ativo| Porto Alegre|    12|2020-02-05|\n|  6|   Matilde Rebouças| Ativo| Porto Alegre|    22|2019-01-05|\n|  7|    Noêmia   Orriça| Ativo|  Santa Maria|    45|2019-10-05|\n|  8|      Roque Vásquez| Ativo| Porto Alegre|    65|2020-03-05|\n|  9|      Uriel Queiroz| Ativo| Porto Alegre|    54|2018-05-05|\n| 10|   Viviana Sequeira| Ativo| Porto Alegre|     0|2020-09-05|\n+---+-------------------+------+-------------+------+----------+\n\nroot\n |-- id: integer (nullable = true)\n |-- nome: string (nullable = true)\n |-- status: string (nullable = true)\n |-- cidade: string (nullable = true)\n |-- vendas: integer (nullable = true)\n |-- data: string (nullable = true)\n\n"
     ]
    }
   ],
   "source": [
    "#ler dados\n",
    "par = spark.read.format(\"parquet\").load(\"dfimportparquet/*.parquet\")\n",
    "par.show()\n",
    "par.printSchema()"
   ]
  },
  {
   "cell_type": "code",
   "execution_count": 0,
   "metadata": {
    "application/vnd.databricks.v1+cell": {
     "cellMetadata": {
      "byteLimit": 2048000,
      "rowLimit": 10000
     },
     "inputWidgets": {},
     "nuid": "76451431-e363-4a41-92ac-614faca8fe86",
     "showTitle": false,
     "title": ""
    }
   },
   "outputs": [],
   "source": [
    "#formato tabular\n",
    "despachantes.show(1)"
   ]
  },
  {
   "cell_type": "code",
   "execution_count": 0,
   "metadata": {
    "application/vnd.databricks.v1+cell": {
     "cellMetadata": {
      "byteLimit": 2048000,
      "rowLimit": 10000
     },
     "inputWidgets": {},
     "nuid": "14c9e1af-ea31-40b3-a923-8bc762c0d12c",
     "showTitle": false,
     "title": ""
    }
   },
   "outputs": [
    {
     "output_type": "stream",
     "name": "stdout",
     "output_type": "stream",
     "text": [
      "Out[48]: [Row(id=1, nome='Carminda Pestana', status='Ativo', cidade='Santa Maria', vendas=23, data='2020-08-11')]"
     ]
    }
   ],
   "source": [
    "#formato de lista\n",
    "despachantes.take(1) #/head/firt"
   ]
  },
  {
   "cell_type": "code",
   "execution_count": 0,
   "metadata": {
    "application/vnd.databricks.v1+cell": {
     "cellMetadata": {
      "byteLimit": 2048000,
      "rowLimit": 10000
     },
     "inputWidgets": {},
     "nuid": "c3b54814-d4ee-48bc-95fc-c440210565d1",
     "showTitle": false,
     "title": ""
    }
   },
   "outputs": [
    {
     "output_type": "stream",
     "name": "stdout",
     "output_type": "stream",
     "text": [
      "Out[49]: [Row(id=1, nome='Carminda Pestana', status='Ativo', cidade='Santa Maria', vendas=23, data='2020-08-11'),\n Row(id=2, nome='Deolinda Vilela', status='Ativo', cidade='Novo Hamburgo', vendas=34, data='2020-03-05'),\n Row(id=3, nome='Emídio Dornelles', status='Ativo', cidade='Porto Alegre', vendas=34, data='2020-02-05'),\n Row(id=4, nome='Felisbela Dornelles', status='Ativo', cidade='Porto Alegre', vendas=36, data='2020-02-05'),\n Row(id=5, nome='Graça Ornellas', status='Ativo', cidade='Porto Alegre', vendas=12, data='2020-02-05'),\n Row(id=6, nome='Matilde Rebouças', status='Ativo', cidade='Porto Alegre', vendas=22, data='2019-01-05'),\n Row(id=7, nome='Noêmia   Orriça', status='Ativo', cidade='Santa Maria', vendas=45, data='2019-10-05'),\n Row(id=8, nome='Roque Vásquez', status='Ativo', cidade='Porto Alegre', vendas=65, data='2020-03-05'),\n Row(id=9, nome='Uriel Queiroz', status='Ativo', cidade='Porto Alegre', vendas=54, data='2018-05-05'),\n Row(id=10, nome='Viviana Sequeira', status='Ativo', cidade='Porto Alegre', vendas=0, data='2020-09-05')]"
     ]
    }
   ],
   "source": [
    "#retorna todos dados como uma lista\n",
    "despachantes.collect()"
   ]
  },
  {
   "cell_type": "code",
   "execution_count": 0,
   "metadata": {
    "application/vnd.databricks.v1+cell": {
     "cellMetadata": {
      "byteLimit": 2048000,
      "rowLimit": 10000
     },
     "inputWidgets": {},
     "nuid": "e57b297c-8db5-4462-a646-2c7884aaa730",
     "showTitle": false,
     "title": ""
    }
   },
   "outputs": [
    {
     "output_type": "stream",
     "name": "stdout",
     "output_type": "stream",
     "text": [
      "Out[50]: 10"
     ]
    }
   ],
   "source": [
    "#conta\n",
    "despachantes.count()"
   ]
  },
  {
   "cell_type": "code",
   "execution_count": 0,
   "metadata": {
    "application/vnd.databricks.v1+cell": {
     "cellMetadata": {
      "byteLimit": 2048000,
      "rowLimit": 10000
     },
     "inputWidgets": {},
     "nuid": "bec3a476-0278-4125-b583-6c6d536b9f76",
     "showTitle": false,
     "title": ""
    }
   },
   "outputs": [
    {
     "output_type": "stream",
     "name": "stdout",
     "output_type": "stream",
     "text": [
      "+---+-------------------+------+-------------+------+----------+\n| id|               nome|status|       cidade|vendas|      data|\n+---+-------------------+------+-------------+------+----------+\n| 10|   Viviana Sequeira| Ativo| Porto Alegre|     0|2020-09-05|\n|  5|     Graça Ornellas| Ativo| Porto Alegre|    12|2020-02-05|\n|  6|   Matilde Rebouças| Ativo| Porto Alegre|    22|2019-01-05|\n|  1|   Carminda Pestana| Ativo|  Santa Maria|    23|2020-08-11|\n|  2|    Deolinda Vilela| Ativo|Novo Hamburgo|    34|2020-03-05|\n|  3|   Emídio Dornelles| Ativo| Porto Alegre|    34|2020-02-05|\n|  4|Felisbela Dornelles| Ativo| Porto Alegre|    36|2020-02-05|\n|  7|    Noêmia   Orriça| Ativo|  Santa Maria|    45|2019-10-05|\n|  9|      Uriel Queiroz| Ativo| Porto Alegre|    54|2018-05-05|\n|  8|      Roque Vásquez| Ativo| Porto Alegre|    65|2020-03-05|\n+---+-------------------+------+-------------+------+----------+\n\n"
     ]
    }
   ],
   "source": [
    "#trasnformações\n",
    "#padrão crescente\n",
    "despachantes.orderBy(\"vendas\").show()"
   ]
  },
  {
   "cell_type": "code",
   "execution_count": 0,
   "metadata": {
    "application/vnd.databricks.v1+cell": {
     "cellMetadata": {
      "byteLimit": 2048000,
      "rowLimit": 10000
     },
     "inputWidgets": {},
     "nuid": "8c0fb4f1-0bba-4b9e-bc7c-1b94f6ae9e15",
     "showTitle": false,
     "title": ""
    }
   },
   "outputs": [
    {
     "output_type": "stream",
     "name": "stdout",
     "output_type": "stream",
     "text": [
      "+---+-------------------+------+-------------+------+----------+\n| id|               nome|status|       cidade|vendas|      data|\n+---+-------------------+------+-------------+------+----------+\n|  8|      Roque Vásquez| Ativo| Porto Alegre|    65|2020-03-05|\n|  9|      Uriel Queiroz| Ativo| Porto Alegre|    54|2018-05-05|\n|  7|    Noêmia   Orriça| Ativo|  Santa Maria|    45|2019-10-05|\n|  4|Felisbela Dornelles| Ativo| Porto Alegre|    36|2020-02-05|\n|  2|    Deolinda Vilela| Ativo|Novo Hamburgo|    34|2020-03-05|\n|  3|   Emídio Dornelles| Ativo| Porto Alegre|    34|2020-02-05|\n|  1|   Carminda Pestana| Ativo|  Santa Maria|    23|2020-08-11|\n|  6|   Matilde Rebouças| Ativo| Porto Alegre|    22|2019-01-05|\n|  5|     Graça Ornellas| Ativo| Porto Alegre|    12|2020-02-05|\n| 10|   Viviana Sequeira| Ativo| Porto Alegre|     0|2020-09-05|\n+---+-------------------+------+-------------+------+----------+\n\n"
     ]
    }
   ],
   "source": [
    "#decrescente\n",
    "despachantes.orderBy(F.col(\"vendas\").desc()).show()"
   ]
  },
  {
   "cell_type": "code",
   "execution_count": 0,
   "metadata": {
    "application/vnd.databricks.v1+cell": {
     "cellMetadata": {
      "byteLimit": 2048000,
      "rowLimit": 10000
     },
     "inputWidgets": {},
     "nuid": "3fff7e93-ef7b-41eb-a759-4fba35d2746e",
     "showTitle": false,
     "title": ""
    }
   },
   "outputs": [
    {
     "output_type": "stream",
     "name": "stdout",
     "output_type": "stream",
     "text": [
      "+---+-------------------+------+-------------+------+----------+\n| id|               nome|status|       cidade|vendas|      data|\n+---+-------------------+------+-------------+------+----------+\n|  7|    Noêmia   Orriça| Ativo|  Santa Maria|    45|2019-10-05|\n|  1|   Carminda Pestana| Ativo|  Santa Maria|    23|2020-08-11|\n|  8|      Roque Vásquez| Ativo| Porto Alegre|    65|2020-03-05|\n|  9|      Uriel Queiroz| Ativo| Porto Alegre|    54|2018-05-05|\n|  4|Felisbela Dornelles| Ativo| Porto Alegre|    36|2020-02-05|\n|  3|   Emídio Dornelles| Ativo| Porto Alegre|    34|2020-02-05|\n|  6|   Matilde Rebouças| Ativo| Porto Alegre|    22|2019-01-05|\n|  5|     Graça Ornellas| Ativo| Porto Alegre|    12|2020-02-05|\n| 10|   Viviana Sequeira| Ativo| Porto Alegre|     0|2020-09-05|\n|  2|    Deolinda Vilela| Ativo|Novo Hamburgo|    34|2020-03-05|\n+---+-------------------+------+-------------+------+----------+\n\n"
     ]
    }
   ],
   "source": [
    "#se quiser cidade dec e valor dec\n",
    "despachantes.orderBy(F.col(\"cidade\").desc(),F.col(\"vendas\").desc()).show()"
   ]
  },
  {
   "cell_type": "code",
   "execution_count": 0,
   "metadata": {
    "application/vnd.databricks.v1+cell": {
     "cellMetadata": {
      "byteLimit": 2048000,
      "rowLimit": 10000
     },
     "inputWidgets": {},
     "nuid": "15b9e909-1d8b-489b-8e19-4f8d4eab646f",
     "showTitle": false,
     "title": ""
    }
   },
   "outputs": [
    {
     "output_type": "stream",
     "name": "stdout",
     "output_type": "stream",
     "text": [
      "+-------------+-----------+\n|       cidade|sum(vendas)|\n+-------------+-----------+\n|  Santa Maria|         68|\n|Novo Hamburgo|         34|\n| Porto Alegre|        223|\n+-------------+-----------+\n\n"
     ]
    }
   ],
   "source": [
    "#agrupar dados\n",
    "#ver vendas por cidade\n",
    "despachantes.groupBy(\"cidade\").agg(sum(\"vendas\")).show()"
   ]
  },
  {
   "cell_type": "code",
   "execution_count": 0,
   "metadata": {
    "application/vnd.databricks.v1+cell": {
     "cellMetadata": {
      "byteLimit": 2048000,
      "rowLimit": 10000
     },
     "inputWidgets": {},
     "nuid": "9bc1c753-0a31-45cf-834c-e6301f9295e0",
     "showTitle": false,
     "title": ""
    }
   },
   "outputs": [
    {
     "output_type": "stream",
     "name": "stdout",
     "output_type": "stream",
     "text": [
      "+-------------+------------+\n|       cidade|total_vendas|\n+-------------+------------+\n| Porto Alegre|         223|\n|  Santa Maria|          68|\n|Novo Hamburgo|          34|\n+-------------+------------+\n\n"
     ]
    }
   ],
   "source": [
    "#ordernar por vendas decrecente\n",
    "from pyspark.sql import functions as F\n",
    "despachantes.groupBy(\"cidade\").agg(F.sum(\"vendas\").alias(\"total_vendas\")).orderBy(F.desc(\"total_vendas\")).show()"
   ]
  },
  {
   "cell_type": "code",
   "execution_count": 0,
   "metadata": {
    "application/vnd.databricks.v1+cell": {
     "cellMetadata": {
      "byteLimit": 2048000,
      "rowLimit": 10000
     },
     "inputWidgets": {},
     "nuid": "a8bbbf0c-d226-478c-a9af-0476b968cece",
     "showTitle": false,
     "title": ""
    }
   },
   "outputs": [
    {
     "output_type": "stream",
     "name": "stdout",
     "output_type": "stream",
     "text": [
      "+---+---------------+------+-------------+------+----------+\n| id|           nome|status|       cidade|vendas|      data|\n+---+---------------+------+-------------+------+----------+\n|  2|Deolinda Vilela| Ativo|Novo Hamburgo|    34|2020-03-05|\n+---+---------------+------+-------------+------+----------+\n\n"
     ]
    }
   ],
   "source": [
    "#filter\n",
    "despachantes.filter(F.col(\"nome\") == \"Deolinda Vilela\").show()"
   ]
  }
 ],
 "metadata": {
  "application/vnd.databricks.v1+notebook": {
   "dashboards": [],
   "language": "python",
   "notebookMetadata": {
    "mostRecentlyExecutedCommandWithImplicitDF": {
     "commandId": 2484850293689426,
     "dataframes": [
      "_sqldf"
     ]
    },
    "pythonIndentUnit": 4
   },
   "notebookName": "Dataframes2",
   "widgets": {}
  }
 },
 "nbformat": 4,
 "nbformat_minor": 0
}
