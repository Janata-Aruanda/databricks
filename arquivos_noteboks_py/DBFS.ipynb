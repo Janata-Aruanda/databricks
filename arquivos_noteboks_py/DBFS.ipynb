{
 "cells": [
  {
   "cell_type": "code",
   "execution_count": 0,
   "metadata": {
    "application/vnd.databricks.v1+cell": {
     "cellMetadata": {
      "byteLimit": 2048000,
      "rowLimit": 10000
     },
     "inputWidgets": {},
     "nuid": "1fdbcbdf-0bc6-4fec-8acd-32aafebdca70",
     "showTitle": false,
     "title": ""
    }
   },
   "outputs": [
    {
     "output_type": "display_data",
     "data": {
      "text/html": [
       "<style scoped>\n",
       "  .table-result-container {\n",
       "    max-height: 300px;\n",
       "    overflow: auto;\n",
       "  }\n",
       "  table, th, td {\n",
       "    border: 1px solid black;\n",
       "    border-collapse: collapse;\n",
       "  }\n",
       "  th, td {\n",
       "    padding: 5px;\n",
       "  }\n",
       "  th {\n",
       "    text-align: left;\n",
       "  }\n",
       "</style><div class='table-result-container'><table class='table-result'><thead style='background-color: white'><tr><th>path</th><th>name</th><th>size</th><th>modificationTime</th></tr></thead><tbody><tr><td>dbfs:/FileStore/tables/datalake/delta/categories.delta/</td><td>categories.delta/</td><td>0</td><td>0</td></tr><tr><td>dbfs:/FileStore/tables/datalake/delta/customers.delta/</td><td>customers.delta/</td><td>0</td><td>0</td></tr><tr><td>dbfs:/FileStore/tables/datalake/delta/employees.delta/</td><td>employees.delta/</td><td>0</td><td>0</td></tr><tr><td>dbfs:/FileStore/tables/datalake/delta/orderdetails.delta/</td><td>orderdetails.delta/</td><td>0</td><td>0</td></tr><tr><td>dbfs:/FileStore/tables/datalake/delta/orders.delta/</td><td>orders.delta/</td><td>0</td><td>0</td></tr><tr><td>dbfs:/FileStore/tables/datalake/delta/products.delta/</td><td>products.delta/</td><td>0</td><td>0</td></tr><tr><td>dbfs:/FileStore/tables/datalake/delta/shippers.delta/</td><td>shippers.delta/</td><td>0</td><td>0</td></tr><tr><td>dbfs:/FileStore/tables/datalake/delta/suppliers.delta/</td><td>suppliers.delta/</td><td>0</td><td>0</td></tr></tbody></table></div>"
      ]
     },
     "metadata": {
      "application/vnd.databricks.v1+output": {
       "addedWidgets": {},
       "aggData": [],
       "aggError": "",
       "aggOverflow": false,
       "aggSchema": [],
       "aggSeriesLimitReached": false,
       "aggType": "",
       "arguments": {},
       "columnCustomDisplayInfos": {},
       "data": [
        [
         "dbfs:/FileStore/tables/datalake/delta/categories.delta/",
         "categories.delta/",
         0,
         0
        ],
        [
         "dbfs:/FileStore/tables/datalake/delta/customers.delta/",
         "customers.delta/",
         0,
         0
        ],
        [
         "dbfs:/FileStore/tables/datalake/delta/employees.delta/",
         "employees.delta/",
         0,
         0
        ],
        [
         "dbfs:/FileStore/tables/datalake/delta/orderdetails.delta/",
         "orderdetails.delta/",
         0,
         0
        ],
        [
         "dbfs:/FileStore/tables/datalake/delta/orders.delta/",
         "orders.delta/",
         0,
         0
        ],
        [
         "dbfs:/FileStore/tables/datalake/delta/products.delta/",
         "products.delta/",
         0,
         0
        ],
        [
         "dbfs:/FileStore/tables/datalake/delta/shippers.delta/",
         "shippers.delta/",
         0,
         0
        ],
        [
         "dbfs:/FileStore/tables/datalake/delta/suppliers.delta/",
         "suppliers.delta/",
         0,
         0
        ]
       ],
       "datasetInfos": [],
       "dbfsResultPath": null,
       "isJsonSchema": true,
       "metadata": {},
       "overflow": false,
       "plotOptions": {
        "customPlotOptions": {},
        "displayType": "table",
        "pivotAggregation": null,
        "pivotColumns": null,
        "xColumns": null,
        "yColumns": null
       },
       "removedWidgets": [],
       "schema": [
        {
         "metadata": "{}",
         "name": "path",
         "type": "\"string\""
        },
        {
         "metadata": "{}",
         "name": "name",
         "type": "\"string\""
        },
        {
         "metadata": "{}",
         "name": "size",
         "type": "\"long\""
        },
        {
         "metadata": "{}",
         "name": "modificationTime",
         "type": "\"long\""
        }
       ],
       "type": "table"
      }
     },
     "output_type": "display_data"
    }
   ],
   "source": [
    "display(dbutils.fs.ls(\"dbfs:/FileStore/tables/datalake/delta/\"))"
   ]
  }
 ],
 "metadata": {
  "application/vnd.databricks.v1+notebook": {
   "dashboards": [],
   "language": "python",
   "notebookMetadata": {
    "pythonIndentUnit": 4
   },
   "notebookName": "DBFS",
   "widgets": {}
  }
 },
 "nbformat": 4,
 "nbformat_minor": 0
}
