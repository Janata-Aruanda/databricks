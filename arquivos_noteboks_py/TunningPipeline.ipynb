{
 "cells": [
  {
   "cell_type": "code",
   "execution_count": 0,
   "metadata": {
    "application/vnd.databricks.v1+cell": {
     "cellMetadata": {
      "byteLimit": 2048000,
      "rowLimit": 10000
     },
     "inputWidgets": {},
     "nuid": "87db14e8-4260-4d5e-bb78-7534d4c77588",
     "showTitle": false,
     "title": ""
    }
   },
   "outputs": [],
   "source": [
    "from pyspark.ml.feature import VectorAssembler\n",
    "from pyspark.ml.feature import StringIndexer\n",
    "from pyspark.ml.classification import MultilayerPerceptronClassifier\n",
    "from pyspark.ml import Pipeline\n",
    "from pyspark.ml.tuning import CrossValidator, ParamGridBuilder\n",
    "from pyspark.ml.evaluation import MulticlassClassificationEvaluator\n",
    "from pyspark.ml.evaluation import MulticlassClassificationEvaluator\n"
   ]
  },
  {
   "cell_type": "code",
   "execution_count": 0,
   "metadata": {
    "application/vnd.databricks.v1+cell": {
     "cellMetadata": {
      "byteLimit": 2048000,
      "rowLimit": 10000
     },
     "inputWidgets": {},
     "nuid": "67634263-6561-4e7b-a00a-e3711125277b",
     "showTitle": false,
     "title": ""
    }
   },
   "outputs": [],
   "source": [
    "#importando o dataset\n",
    "iris = spark.read.csv(\"/FileStore/tables/iris.csv\",inferSchema=True, header=True)\n",
    "irisTreino, irisTeste = iris.randomSplit([0.7,0.3])"
   ]
  },
  {
   "cell_type": "code",
   "execution_count": 0,
   "metadata": {
    "application/vnd.databricks.v1+cell": {
     "cellMetadata": {
      "byteLimit": 2048000,
      "rowLimit": 10000
     },
     "inputWidgets": {},
     "nuid": "e938bcab-48bc-41fa-a640-fdfc7738a232",
     "showTitle": false,
     "title": ""
    }
   },
   "outputs": [],
   "source": [
    "#definindo e criando um vector passeado nas colunas\n",
    "vector = VectorAssembler(inputCols=[\"sepallength\", \"sepalwidth\", \"petallength\", \"petalwidth\"], outputCol=\"independente\")"
   ]
  },
  {
   "cell_type": "code",
   "execution_count": 0,
   "metadata": {
    "application/vnd.databricks.v1+cell": {
     "cellMetadata": {
      "byteLimit": 2048000,
      "rowLimit": 10000
     },
     "inputWidgets": {},
     "nuid": "9f1f4fa8-c3b1-41ce-9268-d6767c6e00d3",
     "showTitle": false,
     "title": ""
    }
   },
   "outputs": [],
   "source": [
    "#\n",
    "indexer = StringIndexer(inputCol=\"class\", outputCol=\"label\")"
   ]
  },
  {
   "cell_type": "code",
   "execution_count": 0,
   "metadata": {
    "application/vnd.databricks.v1+cell": {
     "cellMetadata": {
      "byteLimit": 2048000,
      "rowLimit": 10000
     },
     "inputWidgets": {},
     "nuid": "1c708b36-f634-4bca-9b58-1d5fa3e031be",
     "showTitle": false,
     "title": ""
    }
   },
   "outputs": [],
   "source": [
    "#\n",
    "mlp = MultilayerPerceptronClassifier(maxIter=100, layers=[4, 5, 4, 3], featuresCol=\"independente\", labelCol=\"label\")"
   ]
  },
  {
   "cell_type": "code",
   "execution_count": 0,
   "metadata": {
    "application/vnd.databricks.v1+cell": {
     "cellMetadata": {
      "byteLimit": 2048000,
      "rowLimit": 10000
     },
     "inputWidgets": {},
     "nuid": "8862334d-b6a8-4e84-9a5f-13b24eaf3b75",
     "showTitle": false,
     "title": ""
    }
   },
   "outputs": [],
   "source": [
    "#\n",
    "pipeline = Pipeline(stages=[vector, indexer, mlp]) "
   ]
  },
  {
   "cell_type": "code",
   "execution_count": 0,
   "metadata": {
    "application/vnd.databricks.v1+cell": {
     "cellMetadata": {
      "byteLimit": 2048000,
      "rowLimit": 10000
     },
     "inputWidgets": {},
     "nuid": "1a718b2b-dbe0-4111-aa05-74a41b40bef1",
     "showTitle": false,
     "title": ""
    }
   },
   "outputs": [],
   "source": [
    "\n",
    "grid = ParamGridBuilder().addGrid(mlp.maxIter, [10, 100, 1000]).addGrid(mlp.layers, [[4, 5, 4, 3], [4, 4, 3]]).build()\n",
    "crossval = CrossValidator(estimator=pipeline,estimatorParamMaps=grid,evaluator=MulticlassClassificationEvaluator(),numFolds=3)  "
   ]
  },
  {
   "cell_type": "code",
   "execution_count": 0,
   "metadata": {
    "application/vnd.databricks.v1+cell": {
     "cellMetadata": {
      "byteLimit": 2048000,
      "rowLimit": 10000
     },
     "inputWidgets": {},
     "nuid": "2e32f53c-b22d-426c-a42e-f7f68938b6f4",
     "showTitle": false,
     "title": ""
    }
   },
   "outputs": [],
   "source": [
    "modelo = crossval.fit(irisTreino)"
   ]
  },
  {
   "cell_type": "code",
   "execution_count": 0,
   "metadata": {
    "application/vnd.databricks.v1+cell": {
     "cellMetadata": {
      "byteLimit": 2048000,
      "rowLimit": 10000
     },
     "inputWidgets": {},
     "nuid": "a8808137-284f-4c6f-a618-bc2ec9bbe60d",
     "showTitle": false,
     "title": ""
    }
   },
   "outputs": [
    {
     "output_type": "stream",
     "name": "stdout",
     "output_type": "stream",
     "text": [
      "+-----------+----------+-----------+----------+---------------+-----------------+-----+--------------------+--------------------+----------+\n|sepallength|sepalwidth|petallength|petalwidth|          class|     independente|label|       rawPrediction|         probability|prediction|\n+-----------+----------+-----------+----------+---------------+-----------------+-----+--------------------+--------------------+----------+\n|        4.6|       3.6|        1.0|       0.2|    Iris-setosa|[4.6,3.6,1.0,0.2]|  0.0|[266.574390495330...|[1.0,6.5761242368...|       0.0|\n|        4.8|       3.0|        1.4|       0.1|    Iris-setosa|[4.8,3.0,1.4,0.1]|  0.0|[280.944553530138...|[1.0,9.1595673944...|       0.0|\n|        4.9|       2.5|        4.5|       1.7| Iris-virginica|[4.9,2.5,4.5,1.7]|  1.0|[-470.30543436446...|[1.03461849349861...|       2.0|\n|        4.9|       3.0|        1.4|       0.2|    Iris-setosa|[4.9,3.0,1.4,0.2]|  0.0|[266.574390495330...|[1.0,6.5761242368...|       0.0|\n|        4.9|       3.1|        1.5|       0.1|    Iris-setosa|[4.9,3.1,1.5,0.1]|  0.0|[280.007708209944...|[1.0,6.3097544657...|       0.0|\n|        5.0|       3.6|        1.4|       0.2|    Iris-setosa|[5.0,3.6,1.4,0.2]|  0.0|[266.574390495330...|[1.0,6.5761242368...|       0.0|\n|        5.1|       3.3|        1.7|       0.5|    Iris-setosa|[5.1,3.3,1.7,0.5]|  0.0|[266.574390495330...|[1.0,6.5761242368...|       0.0|\n|        5.1|       3.5|        1.4|       0.3|    Iris-setosa|[5.1,3.5,1.4,0.3]|  0.0|[266.574390495330...|[1.0,6.5761242368...|       0.0|\n|        5.4|       3.9|        1.7|       0.4|    Iris-setosa|[5.4,3.9,1.7,0.4]|  0.0|[266.574390495330...|[1.0,6.5761242368...|       0.0|\n|        5.5|       2.5|        4.0|       1.3|Iris-versicolor|[5.5,2.5,4.0,1.3]|  2.0|[-200.00121217876...|[2.68261820180734...|       2.0|\n|        5.6|       2.8|        4.9|       2.0| Iris-virginica|[5.6,2.8,4.9,2.0]|  1.0|[-484.68155126162...|[2.847E-320,0.999...|       1.0|\n|        5.6|       2.9|        3.6|       1.3|Iris-versicolor|[5.6,2.9,3.6,1.3]|  2.0|[-214.37732788434...|[2.58507417285910...|       2.0|\n|        5.6|       3.0|        4.5|       1.5|Iris-versicolor|[5.6,3.0,4.5,1.5]|  2.0|[-200.00121099165...|[2.68262076034005...|       2.0|\n|        5.7|       2.8|        4.5|       1.3|Iris-versicolor|[5.7,2.8,4.5,1.3]|  2.0|[-200.00121098621...|[2.68262077206846...|       2.0|\n|        5.7|       4.4|        1.5|       0.4|    Iris-setosa|[5.7,4.4,1.5,0.4]|  0.0|[266.574390495330...|[1.0,6.5761242368...|       0.0|\n|        5.8|       4.0|        1.2|       0.2|    Iris-setosa|[5.8,4.0,1.2,0.2]|  0.0|[266.574390495330...|[1.0,6.5761242368...|       0.0|\n|        6.0|       2.2|        4.0|       1.0|Iris-versicolor|[6.0,2.2,4.0,1.0]|  2.0|[-214.36364462257...|[2.61364949202509...|       2.0|\n|        6.0|       2.2|        5.0|       1.5| Iris-virginica|[6.0,2.2,5.0,1.5]|  1.0|[-470.30543436446...|[1.03461849349861...|       2.0|\n|        6.0|       2.9|        4.5|       1.5|Iris-versicolor|[6.0,2.9,4.5,1.5]|  2.0|[-214.37732788434...|[2.58507417285910...|       2.0|\n|        6.0|       3.4|        4.5|       1.6|Iris-versicolor|[6.0,3.4,4.5,1.6]|  2.0|[-214.37732788434...|[2.58507417285910...|       2.0|\n+-----------+----------+-----------+----------+---------------+-----------------+-----+--------------------+--------------------+----------+\nonly showing top 20 rows\n\n"
     ]
    }
   ],
   "source": [
    "previsao = modelo.transform(irisTeste)\n",
    "previsao.show()"
   ]
  },
  {
   "cell_type": "code",
   "execution_count": 0,
   "metadata": {
    "application/vnd.databricks.v1+cell": {
     "cellMetadata": {
      "byteLimit": 2048000,
      "rowLimit": 10000
     },
     "inputWidgets": {},
     "nuid": "af4726d7-b47d-4b92-9a97-a212903665fb",
     "showTitle": false,
     "title": ""
    }
   },
   "outputs": [
    {
     "output_type": "stream",
     "name": "stdout",
     "output_type": "stream",
     "text": [
      "0.9142857142857143\n"
     ]
    }
   ],
   "source": [
    "\n",
    "performance = MulticlassClassificationEvaluator(labelCol=\"label\", predictionCol=\"prediction\", metricName=\"accuracy\")\n",
    "acuracia = performance.evaluate(previsao)\n",
    "print(acuracia)"
   ]
  }
 ],
 "metadata": {
  "application/vnd.databricks.v1+notebook": {
   "dashboards": [],
   "language": "python",
   "notebookMetadata": {
    "pythonIndentUnit": 4
   },
   "notebookName": "TunningPipeline",
   "widgets": {}
  },
  "kernelspec": {
   "display_name": "Python 3",
   "language": "python",
   "name": "python3"
  },
  "language_info": {
   "codemirror_mode": {
    "name": "ipython",
    "version": 3
   },
   "file_extension": ".py",
   "mimetype": "text/x-python",
   "name": "python",
   "nbconvert_exporter": "python",
   "pygments_lexer": "ipython3",
   "version": "3.8.8"
  }
 },
 "nbformat": 4,
 "nbformat_minor": 0
}
