{
 "cells": [
  {
   "cell_type": "code",
   "execution_count": 0,
   "metadata": {
    "application/vnd.databricks.v1+cell": {
     "cellMetadata": {
      "byteLimit": 2048000,
      "rowLimit": 10000
     },
     "inputWidgets": {},
     "nuid": "9dff9e95-b540-45e5-b0fb-65f3c10219b1",
     "showTitle": false,
     "title": ""
    }
   },
   "outputs": [
    {
     "output_type": "stream",
     "name": "stdout",
     "output_type": "stream",
     "text": [
      "+-----+---+\n|   _1| _2|\n+-----+---+\n|Pedro| 10|\n|Maria| 20|\n| José| 40|\n+-----+---+\n\n"
     ]
    }
   ],
   "source": [
    "%python\n",
    "\n",
    "#databricks já é criado automaticado a seção no spark \n",
    "# --> spark.SessionOrCreate\n",
    "\n",
    "#criando um datafarme com uma lista de dupla\n",
    "df1 = spark.createDataFrame([(\"Pedro\",10),(\"Maria\",20),(\"José\",40)])\n",
    "\n",
    "#show é ação, então tudo o que foi feito anteriormente é executado, lazzy\n",
    "df1.show()"
   ]
  },
  {
   "cell_type": "code",
   "execution_count": 0,
   "metadata": {
    "application/vnd.databricks.v1+cell": {
     "cellMetadata": {
      "byteLimit": 2048000,
      "rowLimit": 10000
     },
     "inputWidgets": {},
     "nuid": "d42581d1-fd5a-4360-9c3d-9537c6d33335",
     "showTitle": false,
     "title": ""
    }
   },
   "outputs": [
    {
     "output_type": "stream",
     "name": "stdout",
     "output_type": "stream",
     "text": [
      "root\n |-- _1: string (nullable = true)\n |-- _2: long (nullable = true)\n\n"
     ]
    }
   ],
   "source": [
    "#ao executar o script anterior, o spark identificou a tipo da coluna, \"nome\": string | \"idade\":long, mas não foi passo um schema fixo para esse dataframe.\n",
    "\n",
    "#imprimindo o schema do dataframe\n",
    "df1.printSchema()"
   ]
  },
  {
   "cell_type": "code",
   "execution_count": 0,
   "metadata": {
    "application/vnd.databricks.v1+cell": {
     "cellMetadata": {
      "byteLimit": 2048000,
      "rowLimit": 10000
     },
     "inputWidgets": {},
     "nuid": "8a2f88da-c291-4155-a4b3-ddaf585c98d2",
     "showTitle": false,
     "title": ""
    }
   },
   "outputs": [
    {
     "output_type": "stream",
     "name": "stdout",
     "output_type": "stream",
     "text": [
      "+---+-----+\n| Id| Nome|\n+---+-----+\n|  1|Pedro|\n|  2|Maria|\n+---+-----+\n\n+---+-----+\n| Id| Nome|\n+---+-----+\n|  1|Pedro|\n+---+-----+\nonly showing top 1 row\n\n"
     ]
    }
   ],
   "source": [
    "#criar df com schema\n",
    "\n",
    "#criando um variavel passando o schema\n",
    "schema = \"Id INT, Nome STRING\"\n",
    "\n",
    "#dados em lista\n",
    "dados = [[1,\"Pedro\"],[2,\"Maria\"]]\n",
    "\n",
    "#criando um novo dataframe \n",
    "df2 = spark.createDataFrame(dados, schema)\n",
    "\n",
    "#imprimindo o dataframe completo\n",
    "df2.show()\n",
    "\n",
    "#imprimindo apenas uma linha dataframe \n",
    "df2.show(1)\n",
    "\n",
    "#cria tabela temporária\n",
    "df2.createOrReplaceTempView(\"df2\")"
   ]
  },
  {
   "cell_type": "code",
   "execution_count": 0,
   "metadata": {
    "application/vnd.databricks.v1+cell": {
     "cellMetadata": {
      "byteLimit": 2048000,
      "implicitDf": true,
      "rowLimit": 10000
     },
     "inputWidgets": {},
     "nuid": "377d51bb-3d45-425d-bbfa-2a85917934b4",
     "showTitle": false,
     "title": ""
    }
   },
   "outputs": [
    {
     "output_type": "display_data",
     "data": {
      "text/html": [
       "<style scoped>\n",
       "  .table-result-container {\n",
       "    max-height: 300px;\n",
       "    overflow: auto;\n",
       "  }\n",
       "  table, th, td {\n",
       "    border: 1px solid black;\n",
       "    border-collapse: collapse;\n",
       "  }\n",
       "  th, td {\n",
       "    padding: 5px;\n",
       "  }\n",
       "  th {\n",
       "    text-align: left;\n",
       "  }\n",
       "</style><div class='table-result-container'><table class='table-result'><thead style='background-color: white'><tr><th>Id</th><th>Nome</th></tr></thead><tbody><tr><td>1</td><td>Pedro</td></tr><tr><td>2</td><td>Maria</td></tr></tbody></table></div>"
      ]
     },
     "metadata": {
      "application/vnd.databricks.v1+output": {
       "addedWidgets": {},
       "aggData": [],
       "aggError": "",
       "aggOverflow": false,
       "aggSchema": [],
       "aggSeriesLimitReached": false,
       "aggType": "",
       "arguments": {},
       "columnCustomDisplayInfos": {},
       "data": [
        [
         1,
         "Pedro"
        ],
        [
         2,
         "Maria"
        ]
       ],
       "datasetInfos": [],
       "dbfsResultPath": null,
       "isJsonSchema": true,
       "metadata": {},
       "overflow": false,
       "plotOptions": {
        "customPlotOptions": {},
        "displayType": "table",
        "pivotAggregation": null,
        "pivotColumns": null,
        "xColumns": null,
        "yColumns": null
       },
       "removedWidgets": [],
       "schema": [
        {
         "metadata": "{}",
         "name": "Id",
         "type": "\"integer\""
        },
        {
         "metadata": "{}",
         "name": "Nome",
         "type": "\"string\""
        }
       ],
       "type": "table"
      }
     },
     "output_type": "display_data"
    }
   ],
   "source": [
    "%sql\n",
    "select * from df2"
   ]
  },
  {
   "cell_type": "code",
   "execution_count": 0,
   "metadata": {
    "application/vnd.databricks.v1+cell": {
     "cellMetadata": {
      "byteLimit": 2048000,
      "rowLimit": 10000
     },
     "inputWidgets": {},
     "nuid": "fafea9c4-1876-41db-84bc-0b2efc67a9f0",
     "showTitle": false,
     "title": ""
    }
   },
   "outputs": [
    {
     "output_type": "stream",
     "name": "stdout",
     "output_type": "stream",
     "text": [
      "+--------+------------+\n|Produtos|Somas Vendas|\n+--------+------------+\n|  Caneta|          50|\n|   Lápis|          20|\n+--------+------------+\n\n+--------+-----------+\n|Produtos|sum(Vendas)|\n+--------+-----------+\n|  Caneta|         50|\n|   Lápis|         20|\n+--------+-----------+\n\n"
     ]
    }
   ],
   "source": [
    "#com transformação\n",
    "from pyspark.sql.functions import sum\n",
    "\n",
    "schema2 = \"Produtos STRING, Vendas INT\"\n",
    "\n",
    "vendas = [[\"Caneta\",10],[\"Lápis\",20],[\"Caneta\",40]]\n",
    "\n",
    "df3 = spark.createDataFrame(vendas , schema2 )\n",
    "\n",
    "#\"criando/atribuindo\" dataframe para um objeto \"é um dataframe também\"\n",
    "\n",
    "#diferança que nesse dataframe estoua alterando o nomeda coluna que vai ser criado apartir de uma ação.\n",
    "agrupado = df3.groupBy(\"Produtos\").agg(sum(\"Vendas\").alias('Somas Vendas'))\n",
    "\n",
    "agrupado.show()\n",
    "\n",
    "#podemos contatenar as operações, neste caso sem persitir\n",
    "df3.groupBy(\"Produtos\").agg(sum(\"Vendas\")).show()"
   ]
  },
  {
   "cell_type": "code",
   "execution_count": 0,
   "metadata": {
    "application/vnd.databricks.v1+cell": {
     "cellMetadata": {
      "byteLimit": 2048000,
      "rowLimit": 10000
     },
     "inputWidgets": {},
     "nuid": "5da2c71d-64e2-4efa-a8b2-f803106f165d",
     "showTitle": false,
     "title": ""
    }
   },
   "outputs": [
    {
     "output_type": "stream",
     "name": "stdout",
     "output_type": "stream",
     "text": [
      "+--------+\n|Produtos|\n+--------+\n|  Caneta|\n|   Lápis|\n|  Caneta|\n+--------+\n\n+--------+------+\n|Produtos|Vendas|\n+--------+------+\n|  Caneta|    10|\n|   Lápis|    20|\n|  Caneta|    40|\n+--------+------+\n\n"
     ]
    }
   ],
   "source": [
    "#selecionar colunas específicas\n",
    "df3.select(\"Produtos\").show()\n",
    "df3.select(\"Produtos\",\"Vendas\").show()"
   ]
  },
  {
   "cell_type": "code",
   "execution_count": 0,
   "metadata": {
    "application/vnd.databricks.v1+cell": {
     "cellMetadata": {
      "byteLimit": 2048000,
      "rowLimit": 10000
     },
     "inputWidgets": {},
     "nuid": "621e4f52-ae90-41da-b18b-3b1b9e0b7155",
     "showTitle": false,
     "title": ""
    }
   },
   "outputs": [
    {
     "output_type": "stream",
     "name": "stdout",
     "output_type": "stream",
     "text": [
      "+--------+------+--------------+\n|Produtos|Vendas|(Vendas * 0.2)|\n+--------+------+--------------+\n|  Caneta|    10|           2.0|\n|   Lápis|    20|           4.0|\n|  Caneta|    40|           8.0|\n+--------+------+--------------+\n\n"
     ]
    }
   ],
   "source": [
    "#expressões e select\n",
    "from pyspark.sql.functions import expr\n",
    "\n",
    "#Para passar um type para coluna, pode está usando .cast('INT') \n",
    "df3.select(\"Produtos\", \"Vendas\", expr(\"Vendas * 0.2\")).show()"
   ]
  },
  {
   "cell_type": "code",
   "execution_count": 0,
   "metadata": {
    "application/vnd.databricks.v1+cell": {
     "cellMetadata": {
      "byteLimit": 2048000,
      "rowLimit": 10000
     },
     "inputWidgets": {},
     "nuid": "5de53884-2104-41ec-bede-6a2ffd85b647",
     "showTitle": false,
     "title": ""
    }
   },
   "outputs": [],
   "source": [
    "#ver schema\n",
    "from pyspark.sql.types import StructType\n",
    "schema = df3.schema\n",
    "print(schema)"
   ]
  }
 ],
 "metadata": {
  "application/vnd.databricks.v1+notebook": {
   "dashboards": [],
   "language": "python",
   "notebookMetadata": {
    "mostRecentlyExecutedCommandWithImplicitDF": {
     "commandId": 2484850293689407,
     "dataframes": [
      "_sqldf"
     ]
    },
    "pythonIndentUnit": 4
   },
   "notebookName": "DataFrame1",
   "widgets": {}
  }
 },
 "nbformat": 4,
 "nbformat_minor": 0
}
